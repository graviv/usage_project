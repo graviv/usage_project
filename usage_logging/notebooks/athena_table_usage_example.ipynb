{
 "cells": [
  {
   "cell_type": "markdown",
   "id": "a0449815",
   "metadata": {},
   "source": [
    "# Athena Table Usage Example\n",
    "Querying AWS Athena query logs to get table usage."
   ]
  },
  {
   "cell_type": "code",
   "execution_count": null,
   "id": "e7b79f8a",
   "metadata": {},
   "outputs": [],
   "source": [
    "import boto3\n",
    "import pandas as pd\n",
    "\n",
    "# Simulate query logs (Athena logs typically in CloudTrail or S3 + CloudWatch)\n",
    "# For demonstration, we create a mock DataFrame\n",
    "\n",
    "data = {\n",
    "    'table': ['sales_data', 'users', 'sales_data', 'inventory'],\n",
    "    'query_time': ['2024-07-01', '2024-07-01', '2024-07-02', '2024-07-02']\n",
    "}\n",
    "df = pd.DataFrame(data)\n",
    "df.groupby('table').size().reset_index(name='query_count')"
   ]
  }
 ],
 "metadata": {
  "kernelspec": {
   "display_name": "Python 3",
   "language": "python",
   "name": "python3"
  },
  "language_info": {
   "name": "python",
   "version": "3.9"
  }
 },
 "nbformat": 4,
 "nbformat_minor": 5
}
