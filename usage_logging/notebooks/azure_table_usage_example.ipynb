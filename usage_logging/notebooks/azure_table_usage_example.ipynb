{
 "cells": [
  {
   "cell_type": "markdown",
   "metadata": {},
   "source": [
    "# Analyze Azure Synapse Serverless Table Usage with Log Analytics\n",
    "\n",
    "This notebook demonstrates how to query Log Analytics to identify frequently accessed tables in Azure Synapse Serverless SQL pools. It mimics the functionality of the provided BigQuery query.\n",
    "\n",
    "**Prerequisites:**\n",
    "* An Azure Subscription.\n",
    "* An Azure Synapse Analytics workspace with a serverless SQL pool.\n",
    "* A Log Analytics workspace configured to receive diagnostic logs (e.g., `SynapseSqlPoolExecRequests`) from your Synapse serverless SQL pool.\n",
    "* The user or service principal running this notebook must have appropriate permissions (e.g., Log Analytics Reader) on the Log Analytics workspace.\n",
    "* Python 3.6+."
   ]
  },
  {
   "cell_type": "markdown",
   "metadata": {},
   "source": [
    "## 1. Install Required Libraries"
   ]
  },
  {
   "cell_type": "code",
   "execution_count": null,
   "metadata": {},
   "outputs": [],
   "source": [
    "!pip install azure-identity azure-monitor-query pandas"
   ]
  },
  {
   "cell_type": "markdown",
   "metadata": {},
   "source": [
    "## 2. Import Libraries"
   ]
  },
  {
   "cell_type": "code",
   "execution_count": null,
   "metadata": {},
   "outputs": [],
   "source": [
    "import pandas as pd\n",
    "from azure.identity import DefaultAzureCredential\n",
    "from azure.monitor.query import LogsQueryClient, LogsQueryStatus"
   ]
  },
  {
   "cell_type": "markdown",
   "metadata": {},
   "source": [
    "## 3. Configure Azure Log Analytics Details\n",
    "\n",
    "**Important:** Replace `YOUR_LOG_ANALYTICS_WORKSPACE_ID` with your actual Log Analytics Workspace ID."
   ]
  },
  {
   "cell_type": "code",
   "execution_count": null,
   "metadata": {},
   "outputs": [],
   "source": [
    "# Replace with your Log Analytics Workspace ID\n",
    "LOG_ANALYTICS_WORKSPACE_ID = \"YOUR_LOG_ANALYTICS_WORKSPACE_ID\" "
   ]
  },
  {
   "cell_type": "markdown",
   "metadata": {},
   "source": [
    "## 4. Define the KQL Query\n",
    "\n",
    "This KQL query will analyze the `SynapseSqlPoolExecRequests` table (or a similar table containing your Synapse query logs) to find referenced tables."
   ]
  },
  {
   "cell_type": "code",
   "execution_count": null,
   "metadata": {},
   "outputs": [],
   "source": [
    "kql_query = \"\"\"\n",
    "SynapseSqlPoolExecRequests\n",
    "| where TimeGenerated > ago(30d) // Filter for the last 30 days\n",
    "| where StatementType == \"SELECT\" // Optional: Focus on SELECT statements\n",
    "| project QueryText = tostring(StatementText), TimeGenerated\n",
    "| where QueryText matches regex \"FROM\\\\s+`?(\\\\w+)`?|JOIN\\\\s+`?(\\\\w+)`?\" // Basic regex to find table names after FROM or JOIN\n",
    "| mv-expand table_capture = extract_all(@\"`?(\\\\w+)`?\", QueryText) to typeof(string) // Extract all potential table names\n",
    "| extend referenced_table_id = tostring(table_capture[0])\n",
    "| where isnotempty(referenced_table_id)\n",
    "// Add more specific filtering here if needed to exclude temporary tables or views if possible based on naming conventions\n",
    "// For example: | where referenced_table_id !startswith \"#\" and referenced_table_id !startswith \"temp_\"\n",
    "| summarize query_count = count() by referenced_table_id\n",
    "| order by query_count desc\n",
    "| limit 10\n",
    "\"\"\"\n",
    "\n",
    "print(\"KQL Query:\\n\", kql_query)"
   ]
  },
  {
   "cell_type": "markdown",
   "metadata": {},
   "source": [
    "## 5. Authenticate and Execute the Query\n",
    "\n",
    "We will use `DefaultAzureCredential` for authentication. This will attempt several authentication methods (e.g., environment variables, Azure CLI, managed identity) as configured in your environment."
   ]
  },
  {
   "cell_type": "code",
   "execution_count": null,
   "metadata": {},
   "outputs": [],
   "source": [
    "credential = DefaultAzureCredential()\n",
    "logs_client = LogsQueryClient(credential)\n",
    "\n",
    "print(f\"Querying Log Analytics Workspace: {LOG_ANALYTICS_WORKSPACE_ID}\")\n",
    "print(\"Executing KQL query... This may take a moment.\")\n",
    "\n",
    "try:\n",
    "    response = logs_client.query_workspace(\n",
    "        workspace_id=LOG_ANALYTICS_WORKSPACE_ID,\n",
    "        query=kql_query,\n",
    "        timespan=None # Timespan is defined in the KQL query itself using ago(30d)\n",
    "    )\n",
    "\n",
    "    if response.status == LogsQueryStatus.SUCCESS:\n",
    "        print(\"Query executed successfully!\")\n",
    "        # The result is a list of LogsTable objects\n",
    "        # For this query, we expect one table in the result\n",
    "        data = response.tables[0]\n",
    "        df = pd.DataFrame(data=data.rows, columns=data.columns)\n",
    "        \n
    "    else:\n",
    "        print(f\"Query failed with status: {response.status}\")\n",
    "        if response.error:\n",
    "            print(f\"Error details: {response.error.message}\")\n",
    "        df = pd.DataFrame() # Create an empty DataFrame in case of error\n",
    "\n",
    "except Exception as e:\n",
    "    print(f\"An error occurred: {e}\")\n",
    "    df = pd.DataFrame() # Create an empty DataFrame in case of exception\n"
   ]
  },
  {
   "cell_type": "markdown",
   "metadata": {},
   "source": [
    "## 6. Display Results"
   ]
  },
  {
   "cell_type": "code",
   "execution_count": null,
   "metadata": {},
   "outputs": [],
   "source": [
    "if not df.empty:\n",
    "    print(\"\\nTop 10 Referenced Tables (Last 30 Days):\")\n",
    "    print(df)\n",
    "else:\n",
    "    print(\"\\nNo data to display. Check query execution status and logs.\")"
   ]
  },
  {
   "cell_type": "markdown",
   "metadata": {},
   "source": [
    "## Important Notes on KQL Query Accuracy:\n",
    "\n",
    "* **Table Extraction Regex**: The regex used (`FROM\\\\s+`?(\\\\w+)`?|JOIN\\\\s+`?(\\\\w+)`?` and `extract_all(@\"`?(\\\\w+)`?\", QueryText)`) is basic. It might not accurately capture all table names in complex SQL queries (e.g., those with three-part naming `database.schema.table`, CTEs that might look like tables, or complex subqueries). You may need to refine the regex based on your specific query patterns.\n",
    "* **Views vs. Tables**: This query will likely list views if they are referenced like tables. Differentiating them purely from query text is challenging without strict naming conventions or querying Synapse metadata (which is a separate step not covered here).\n",
    "* **Case Sensitivity**: KQL string comparisons are case-sensitive by default. If your table names might have varied casing in queries but refer to the same case-insensitive table in Synapse, you might need to use `tolower()` or `toupper()` on `referenced_table_id` before summarizing.\n",
    "* **Log Table**: Ensure `SynapseSqlPoolExecRequests` is the correct table in your Log Analytics workspace. It might be named differently or you might be using a custom log.\n",
    "* **Filtering**: Add more `where` clauses in the KQL query to filter out known non-tables (like temporary tables, specific schemas, or common CTE names) if the regex is too broad."
   ]
  }
 ],
 "metadata": {
  "kernelspec": {
   "display_name": "Python 3 (ipykernel)",
   "language": "python",
   "name": "python3"
  },
  "language_info": {
   "codemirror_mode": {
    "name": "ipython",
    "version": 3
   },
   "file_extension": ".py",
   "mimetype": "text/x-python",
   "name": "python",
   "nbconvert_exporter": "python",
   "pygments_lexer": "ipython3",
   "version": "3.10.12"
  }
 },
 "nbformat": 4,
 "nbformat_minor": 5
}
