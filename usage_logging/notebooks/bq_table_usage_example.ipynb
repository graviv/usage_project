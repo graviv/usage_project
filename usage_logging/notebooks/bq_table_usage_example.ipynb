{
 "cells": [
  {
   "cell_type": "markdown",
   "id": "6ef2ae14",
   "metadata": {},
   "source": [
    "# BigQuery Table Usage Example\n",
    "This notebook runs a query against BigQuery JOBS metadata to track table usage."
   ]
  },
  {
   "cell_type": "code",
   "execution_count": null,
   "id": "7e71168f",
   "metadata": {},
   "outputs": [],
   "source": [
    "from google.cloud import bigquery\n",
    "client = bigquery.Client()\n",
    "\n",
    "query = '''\n",
    "SELECT\n",
    "  referenced_table_id,\n",
    "  COUNT(*) AS query_count\n",
    "FROM\n",
    "  `region-us`.INFORMATION_SCHEMA.JOBS_BY_PROJECT\n",
    "WHERE\n",
    "  creation_time > TIMESTAMP_SUB(CURRENT_TIMESTAMP(), INTERVAL 30 DAY)\n",
    "GROUP BY referenced_table_id\n",
    "ORDER BY query_count DESC\n",
    "LIMIT 10\n",
    "'''\n",
    "\n",
    "df = client.query(query).to_dataframe()\n",
    "df"
   ]
  }
 ],
 "metadata": {
  "kernelspec": {
   "display_name": "Python 3",
   "language": "python",
   "name": "python3"
  },
  "language_info": {
   "name": "python",
   "version": "3.9"
  }
 },
 "nbformat": 4,
 "nbformat_minor": 5
}
